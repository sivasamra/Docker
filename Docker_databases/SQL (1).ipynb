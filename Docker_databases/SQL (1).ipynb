{
  "nbformat": 4,
  "nbformat_minor": 0,
  "metadata": {
    "colab": {
      "provenance": []
    },
    "kernelspec": {
      "name": "python3",
      "display_name": "Python 3"
    },
    "language_info": {
      "name": "python"
    }
  },
  "cells": [
    {
      "cell_type": "code",
      "execution_count": null,
      "metadata": {
        "id": "uobOO3DHzuJV"
      },
      "outputs": [],
      "source": [
        "#Create a Table\n",
        "create table students(\n",
        "student_id int not null,\n",
        "student_name varchar(50),\n",
        "age int,\n",
        "gender varchar(1),\n",
        "location varchar(100))"
      ]
    },
    {
      "cell_type": "code",
      "source": [
        "#Insert Data in to Table\n",
        "INSERT into students values(1, 'yaswanth', 25, 'M', 'India')\n",
        "INSERT into students values(2, 'kishore', 26, 'M', 'USA')"
      ],
      "metadata": {
        "id": "F8wAZdPM0ID8"
      },
      "execution_count": null,
      "outputs": []
    },
    {
      "cell_type": "code",
      "source": [
        "#Quering in to created table\n",
        "select * from students;"
      ],
      "metadata": {
        "id": "QuHeZb7y0Zk5"
      },
      "execution_count": null,
      "outputs": []
    },
    {
      "cell_type": "code",
      "source": [
        "#PRIMARY KEY and FORIEGN KEY\n",
        "create table dep (\n",
        "depid int not null,\n",
        "depname varchar(100),\n",
        "depaddress varchar(255),\n",
        "PRIMARY KEY(depid))\n"
      ],
      "metadata": {
        "id": "pCN-pgk70x14"
      },
      "execution_count": null,
      "outputs": []
    },
    {
      "cell_type": "code",
      "source": [
        "create table emp(\n",
        "empid int,\n",
        "empname varchar,\n",
        "empadd varchar,\n",
        "depid int,\n",
        "PRIMARY KEY(empid),\n",
        "FOREIGN KEY(depid) REFERENCES dep(depid))\n"
      ],
      "metadata": {
        "id": "aRj-quDj1tgw"
      },
      "execution_count": null,
      "outputs": []
    },
    {
      "cell_type": "markdown",
      "source": [
        "#DATA DEFINITION LANGUAGE\n",
        " 1.CREATE TABLE\n",
        "\n",
        " 2.ALTER TABLE\n",
        " \n",
        " 3.DROP TABLE"
      ],
      "metadata": {
        "id": "UoTe21-Yug20"
      }
    },
    {
      "cell_type": "code",
      "source": [
        "#CREATE TABLE\n",
        "create table employees_2022(\n",
        "emp_name varchar(50),\n",
        "emp_id int not null,\n",
        "manager_name varchar(50),\n",
        "department_id int not null,\n",
        "PRIMARY KEY(emp_id)\n",
        ")"
      ],
      "metadata": {
        "id": "8vMDRae3uncV"
      },
      "execution_count": null,
      "outputs": []
    },
    {
      "cell_type": "code",
      "source": [
        "#ALTER TABLE - Adding a column\n",
        "ALTER table\n",
        "employees_2022\n",
        "ADD gend varchar(1)"
      ],
      "metadata": {
        "id": "0uhbW1w8Cg_I"
      },
      "execution_count": null,
      "outputs": []
    },
    {
      "cell_type": "code",
      "source": [
        "#ALTER TABLE - Rename a column\n",
        "ALTER table \n",
        "employees_2022\n",
        "RENAME COLUMN gend to gender"
      ],
      "metadata": {
        "id": "LTRwIrA1CzRu"
      },
      "execution_count": null,
      "outputs": []
    },
    {
      "cell_type": "code",
      "source": [
        "#ALTER TABLE - Deleting a column\n",
        "ALTER TABLE\n",
        "empoyees_2022\n",
        "DROP COLUMN gender"
      ],
      "metadata": {
        "id": "Q8RaNEH_EAh9"
      },
      "execution_count": null,
      "outputs": []
    },
    {
      "cell_type": "code",
      "source": [
        "#ALTER TABLE - Deleting a table\n",
        "DROP table <table name>\n",
        "\n",
        "#ALTER TABLE - Deleting a DB\n",
        "DROP database <database name>"
      ],
      "metadata": {
        "id": "stRnbLd-FX_W"
      },
      "execution_count": null,
      "outputs": []
    },
    {
      "cell_type": "markdown",
      "source": [
        "#DATA QUERY LANGUAGE\n"
      ],
      "metadata": {
        "id": "7lF0qepTWo5L"
      }
    },
    {
      "cell_type": "code",
      "source": [
        "#INSERT DATA\n",
        "\n",
        "#Create Table\n",
        "create table emp_info (first_name varchar(30), last_name varchar(30), id_no int not null, age int not null, city varchar(20), state varchar(20)) \n",
        "\n",
        "#Insert Data\n",
        "INSERT into emp_info values( 'Mary', 'Jones', 99982, 25, 'Payson', 'Arizona' );\n",
        "INSERT into emp_info values( 'Eric', 'Edwards', 88232, 32, 'San Diego', 'California');\n",
        "INSERT into emp_info values('Hary Ann', 'Eéwards', 88233, 32, 'Phoenix', 'Arizona');\n",
        "INSERT into emp_info values( 'Ginger', 'Howell', 980025, 42, 'Cottonwood', 'Arizona');\n",
        "INSERT into emp_info values('Sebastian', 'Snith', 92001, 23, 'Gila Bend', 'Arizona');\n",
        "INSERT into emp_info values('Gus', 'Gray', 22352, 35, 'Bagdad', 'Arizona');\n",
        "INSERT into emp_info values( 'Mary Ann', 'May', 32326, 52, 'Tucson', 'Arizona');\n",
        "INSERT into emp_info values('Erica', 'Williaes', 32327, 60, 'Showlow' ,'Arizona');\n",
        "INSERT into emp_info values('Leroy', 'Brown', 32380, 22, 'Pine Top', 'Arizona');\n",
        "INSERT into emp_info values('Elroy', 'Cleaver', 32382, 22, 'Globe', 'Arizona');\n",
        "\n",
        "#Query Data\n",
        "select * from emp_info"
      ],
      "metadata": {
        "id": "VE5hLK_ebqVr"
      },
      "execution_count": null,
      "outputs": []
    },
    {
      "cell_type": "code",
      "source": [
        "#COUNT FUNCTION - for counting \n",
        "\n",
        "#COUNT ALL\n",
        "select COUNT(*) from emp_info\n",
        "\n",
        "#COUNT SELECTED\n",
        "select COUNT(age) from emp_info"
      ],
      "metadata": {
        "id": "cuHrbsRthGgt"
      },
      "execution_count": null,
      "outputs": []
    },
    {
      "cell_type": "code",
      "source": [
        "#QUERY DATA WITH FILTERS\n",
        "\n",
        "#Filter age above 30\n",
        "select * from emp_info where age>30;\n",
        "\n",
        "#Filter age between 30 and 50\n",
        "select * from emp_info where age>30 and age<50;\n",
        "\n",
        "#Filter first_name starts with e\n",
        "select * from emp_info where first_name like 'e%'\n",
        "\n",
        "#Filter first_name ends with s\n",
        "select * from emp_info where first_name like '%s'\n",
        "\n",
        "#Filter first_name containing letter 's'\n",
        "select * from emp_info where first_name like '%s%'\n",
        "\n",
        "#Filter ages with exact match\n",
        "select * from emp_info where age in (22)\n",
        "\n",
        "#Filter ages with exact match - multiple ages\n",
        "select * from emp_info where age in (22, 32, 42, 52)\n",
        "\n",
        "#Filter multiple columns\n",
        "select * from emp_info where first_name = 'Elroy' and age = 22\n"
      ],
      "metadata": {
        "id": "V-FUbVWhh1hK"
      },
      "execution_count": null,
      "outputs": []
    },
    {
      "cell_type": "markdown",
      "source": [
        "#DATA MANIPULATION LANGUAGE\n",
        "1. UPDATE\n",
        "2.DELETE"
      ],
      "metadata": {
        "id": "x1mfmq58wKM2"
      }
    },
    {
      "cell_type": "code",
      "source": [
        "#UPDATE\n",
        "#UPDATE - Elory state to Virginia (single)\n",
        "update emp_info set state = 'Virginia' where first_name = 'Elroy'\n",
        "\n",
        "#UPDATE - Elory state to California and age to 25 (Multi)\n",
        "update emp_info set state = 'California', age = 25 where first_name = 'Elroy'"
      ],
      "metadata": {
        "id": "gJrS2DL4wxMk"
      },
      "execution_count": null,
      "outputs": []
    },
    {
      "cell_type": "code",
      "source": [
        "#DELETE\n",
        "#DELETE - Delete a row which containing name of Elroy\n",
        "delete from emp_info where first_name = 'Elroy'"
      ],
      "metadata": {
        "id": "zql0v28fxaF-"
      },
      "execution_count": null,
      "outputs": []
    },
    {
      "cell_type": "markdown",
      "source": [],
      "metadata": {
        "id": "kXioEHseyBDk"
      }
    }
  ]
}